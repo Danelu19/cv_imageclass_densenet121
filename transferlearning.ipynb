{
  "nbformat": 4,
  "nbformat_minor": 0,
  "metadata": {
    "colab": {
      "provenance": []
    },
    "kernelspec": {
      "name": "python3",
      "display_name": "Python 3"
    },
    "language_info": {
      "name": "python"
    }
  },
  "cells": [
    {
      "cell_type": "code",
      "source": [
        "import tensorflow as tf\n",
        "import numpy as np\n",
        "from tensorflow.keras.optimizers import Adam\n",
        "from tensorflow.keras.losses import SparseCategoricalCrossentropy\n",
        "from tensorflow.keras import Model, Input\n",
        "from tensorflow.keras.layers import Conv2D, BatchNormalization, ReLU, Add, Dense, AveragePooling2D, Flatten\n",
        "from tensorflow.keras.applications import DenseNet121\n",
        "from tensorflow.keras.applications.mobilenet_v2 import preprocess_input\n"
      ],
      "metadata": {
        "id": "xCG8Zh_TCN8O"
      },
      "execution_count": null,
      "outputs": []
    },
    {
      "cell_type": "code",
      "source": [
        "import matplotlib.pyplot as plt\n",
        "from sklearn.metrics import confusion_matrix\n",
        "import seaborn as sns"
      ],
      "metadata": {
        "id": "-SJU4C2PFTi1"
      },
      "execution_count": null,
      "outputs": []
    },
    {
      "cell_type": "code",
      "source": [
        "# Cargar datos\n",
        "(x_train, y_train), (x_test, y_test) = tf.keras.datasets.cifar10.load_data()\n",
        "\n",
        "BATCH_SIZE = 100\n",
        "AUTO = tf.data.AUTOTUNE"
      ],
      "metadata": {
        "id": "SSbZSZBZLUHF"
      },
      "execution_count": null,
      "outputs": []
    },
    {
      "cell_type": "code",
      "source": [
        "# Función de preprocesamiento\n",
        "def preprocess(image, label):\n",
        "    # Convertir y normalizar\n",
        "    image = tf.image.convert_image_dtype(image, tf.float32)\n",
        "    image = preprocess_input(image)\n",
        "    label = tf.cast(label, tf.int32)\n",
        "    return image, label"
      ],
      "metadata": {
        "id": "r1QwrN24M8A3"
      },
      "execution_count": null,
      "outputs": []
    },
    {
      "cell_type": "code",
      "source": [
        "# Conjunto de datos de entrenamiento\n",
        "train_ds = tf.data.Dataset.from_tensor_slices((x_train, y_train))\n",
        "train_ds = (\n",
        "    train_ds\n",
        "    .map(preprocess, num_parallel_calls=AUTO)\n",
        "    .batch(BATCH_SIZE)\n",
        "    .prefetch(AUTO)\n",
        ")\n",
        "\n",
        "# Conjunto de datos de prueba\n",
        "test_ds = tf.data.Dataset.from_tensor_slices((x_test, y_test))\n",
        "test_ds = (\n",
        "    test_ds\n",
        "    .map(preprocess, num_parallel_calls=AUTO)\n",
        "    .batch(BATCH_SIZE)\n",
        "    .prefetch(AUTO)\n",
        ")\n",
        "\n",
        "\n",
        "# Entrenar el modelo\n",
        "history = model.fit(train_ds, validation_data=test_ds, epochs=10)\n",
        "\n",
        "# Visualizar las curvas de aprendizaje\n",
        "#plt.plot(history.history['accuracy'], label='Training Accuracy')\n",
        "#plt.plot(history.history['val_accuracy'], label='Validation Accuracy')\n",
        "#plt.title('Curvas de Aprendizaje')\n",
        "#plt.xlabel('Época')\n",
        "#plt.ylabel('Precisión')\n",
        "#plt.legend()\n",
        "#plt.show()"
      ],
      "metadata": {
        "id": "pJM9Xx1pMSnu"
      },
      "execution_count": null,
      "outputs": []
    },
    {
      "cell_type": "code",
      "source": [
        "# Función de preprocesamiento\n",
        "def preprocess(image, label):\n",
        "    # Convertir y normalizar\n",
        "    image = tf.image.convert_image_dtype(image, tf.float32)\n",
        "    image = preprocess_input(image)\n",
        "    label = tf.cast(label, tf.int32)\n",
        "    return image, label"
      ],
      "metadata": {
        "id": "F_tlmND9LWCI"
      },
      "execution_count": null,
      "outputs": []
    },
    {
      "cell_type": "code",
      "source": [
        "# Conjunto de datos de entrenamiento\n",
        "train_ds = tf.data.Dataset.from_tensor_slices((x_train, y_train))\n",
        "train_ds = (\n",
        "    train_ds\n",
        "    .shuffle(1024)\n",
        "    .map(preprocess, num_parallel_calls=AUTO)\n",
        "    .batch(BATCH_SIZE)\n",
        "    .prefetch(AUTO)\n",
        ")\n",
        "\n",
        "# Aplicar aumento de datos al conjunto de entrenamiento\n",
        "data_augmentation = tf.keras.Sequential([\n",
        "    tf.keras.layers.experimental.preprocessing.Rescaling(1./255),\n",
        "    tf.keras.layers.experimental.preprocessing.RandomFlip(\"horizontal\"),\n",
        "    tf.keras.layers.experimental.preprocessing.RandomRotation(0.1),\n",
        "    tf.keras.layers.experimental.preprocessing.RandomZoom(0.1),\n",
        "    # Agrega más transformaciones según sea necesario\n",
        "])\n",
        "\n",
        "train_ds = train_ds.map(lambda x, y: (data_augmentation(x, training=True), y),\n",
        "                        num_parallel_calls=AUTO)"
      ],
      "metadata": {
        "id": "xkU7Z2rBLZl7"
      },
      "execution_count": null,
      "outputs": []
    },
    {
      "cell_type": "code",
      "source": [
        "# Modelo base DenseNet121 preentrenado\n",
        "base_model = DenseNet121(include_top=False, weights='imagenet', input_shape=(32, 32, 3))\n",
        "base_model.trainable = True  # Congelar capas preentrenadas\n",
        "\n",
        "# Agregar capas adicionales para adaptarse a la tarea de clasificación\n",
        "x = base_model.output\n",
        "\n",
        "# Comprobar dimensiones espaciales para aplicar AveragePooling2D\n",
        "if x.shape[1] >= 2 and x.shape[2] >= 2:\n",
        "    x = AveragePooling2D(pool_size=(2, 2))(x)\n",
        "else:\n",
        "    x = Flatten()(x)\n",
        "\n",
        "x = Dense(256, activation='relu')(x)\n",
        "predictions = Dense(100, activation='softmax')(x)"
      ],
      "metadata": {
        "id": "VrKR1LjLLeVg"
      },
      "execution_count": null,
      "outputs": []
    },
    {
      "cell_type": "code",
      "source": [
        "# Modelo final\n",
        "model = Model(inputs=base_model.input, outputs=predictions)\n",
        "\n",
        "# Compilar el modelo con una tasa de aprendizaje ajustada\n",
        "model.compile(optimizer=Adam(learning_rate=0.0001), loss=SparseCategoricalCrossentropy(), metrics=['accuracy'])\n"
      ],
      "metadata": {
        "id": "sK9VB9ZYLkLn"
      },
      "execution_count": null,
      "outputs": []
    },
    {
      "cell_type": "code",
      "source": [
        "from tensorflow.keras.models import Model\n",
        "\n",
        "# Crear un modelo intermedio que devuelva las activaciones de ciertas capas\n",
        "activation_model = Model(inputs=model.input, outputs=model.layers[5].output)\n",
        "\n",
        "# Obtener activaciones para una muestra de datos\n",
        "sample_image = x_train[0].reshape((1,) + x_train[0].shape)\n",
        "activations = activation_model.predict(sample_image)\n",
        "\n",
        "# Visualizar las activaciones\n",
        "plt.imshow(activations[0, :, :, 0], cmap='viridis')\n",
        "plt.title('Activaciones en una Capa Específica')\n",
        "plt.show()\n"
      ],
      "metadata": {
        "colab": {
          "base_uri": "https://localhost:8080/",
          "height": 470
        },
        "id": "LoB3h5iYMG8M",
        "outputId": "a72854e8-28ee-4caa-deb7-bace349c97b8"
      },
      "execution_count": null,
      "outputs": [
        {
          "output_type": "stream",
          "name": "stdout",
          "text": [
            "1/1 [==============================] - 0s 408ms/step\n"
          ]
        },
        {
          "output_type": "display_data",
          "data": {
            "text/plain": [
              "<Figure size 640x480 with 1 Axes>"
            ],
            "image/png": "[encoded data removed]"
          },
          "metadata": {}
        }
      ]
    },
    {
      "cell_type": "code",
      "source": [
        "# Evaluar el modelo\n",
        "test_loss, test_accuracy = model.evaluate(test_ds)\n",
        "print(f\"Test Accuracy: {test_accuracy * 100:.2f}%\")\n"
      ],
      "metadata": {
        "id": "MhAYlNpnFRLW"
      },
      "execution_count": null,
      "outputs": []
    }
  ]
}